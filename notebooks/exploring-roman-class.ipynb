{
 "cells": [
  {
   "cell_type": "markdown",
   "metadata": {},
   "source": [
    "### Update PYTHONPATH"
   ]
  },
  {
   "cell_type": "code",
   "execution_count": null,
   "metadata": {},
   "outputs": [],
   "source": [
    "import sys\n",
    "from pathlib import Path\n",
    "project_path = Path.cwd()\n",
    "while project_path.stem != 'roman-numerals':\n",
    "    project_path = project_path.parent\n",
    "sys.path.append(str(project_path))"
   ]
  },
  {
   "cell_type": "markdown",
   "metadata": {},
   "source": [
    "### Imports"
   ]
  },
  {
   "cell_type": "code",
   "execution_count": null,
   "metadata": {},
   "outputs": [],
   "source": [
    "import asyncio\n",
    "from scripts.roman import Roman, validated"
   ]
  },
  {
   "cell_type": "markdown",
   "metadata": {},
   "source": [
    "### Define Roman instances, which contain both the decimal and string representations, and check their length or absolute value"
   ]
  },
  {
   "cell_type": "code",
   "execution_count": null,
   "metadata": {},
   "outputs": [],
   "source": [
    "r = Roman(66)\n",
    "print(f'Roman instance: {r} contains {len(r)} characters, and its absolute value is: {abs(r)}')"
   ]
  },
  {
   "cell_type": "markdown",
   "metadata": {},
   "source": [
    "### Use Roman instances as members in hashable collections"
   ]
  },
  {
   "cell_type": "code",
   "execution_count": null,
   "metadata": {},
   "outputs": [],
   "source": [
    "s = set([Roman(l) for l in 'MCMXCIII'])\n",
    "print(s)\n",
    "\n",
    "d = {Roman(letter): idx for idx, letter in enumerate('MCMXCIII')}\n",
    "print(d)"
   ]
  },
  {
   "cell_type": "markdown",
   "metadata": {},
   "source": [
    "### Perform arithmetic with Roman instances, and string and decimal representations"
   ]
  },
  {
   "cell_type": "code",
   "execution_count": null,
   "metadata": {},
   "outputs": [],
   "source": [
    "computation = ((1 + Roman('X') + 'C') * Roman(10)) // 2\n",
    "print(f'The result of that complicated computation is: {computation}')"
   ]
  },
  {
   "cell_type": "markdown",
   "metadata": {},
   "source": [
    "### Compare Roman instances with other Roman instances or string or decimal representations"
   ]
  },
  {
   "cell_type": "code",
   "execution_count": null,
   "metadata": {},
   "outputs": [],
   "source": [
    "r = Roman(2023)\n",
    "if r != Roman(2020) and r == 2023 and r >= 'MMXXIII' and r <= 2023 and r > Roman(2022) and r < 'MMXXIV':\n",
    "    print('You can compare Roman numerals with integers, strings and other Roman numerals!')"
   ]
  },
  {
   "cell_type": "markdown",
   "metadata": {},
   "source": [
    "### Check whether the Roman representation of a number contains a letter or not"
   ]
  },
  {
   "cell_type": "code",
   "execution_count": null,
   "metadata": {},
   "outputs": [],
   "source": [
    "r = Roman(2078)\n",
    "print(f\"M in {r}: {'M' in r}\")\n",
    "print(f\"C in {r}: {'C' in r}\")\n",
    "print(f\"x in {r}: {'x' in r}\")"
   ]
  },
  {
   "cell_type": "markdown",
   "metadata": {},
   "source": [
    "### Iterate over the letters composing a Roman instance"
   ]
  },
  {
   "cell_type": "code",
   "execution_count": null,
   "metadata": {},
   "outputs": [],
   "source": [
    "r = Roman(1993)\n",
    "letters = [letter for letter in r]\n",
    "print(letters)"
   ]
  },
  {
   "cell_type": "markdown",
   "metadata": {},
   "source": [
    "### Convert Roman instances to / from decimal numbers"
   ]
  },
  {
   "cell_type": "code",
   "execution_count": null,
   "metadata": {},
   "outputs": [],
   "source": [
    "r = 'XVI'\n",
    "d = Roman.convert_to_decimal(r)\n",
    "print(f'{r} -> {d}')\n",
    "\n",
    "r_2 = Roman('VII')\n",
    "i = int(r_2)\n",
    "print(f'{r_2} -> {i}')\n",
    "\n",
    "r_3 = Roman.convert_to_roman(d)\n",
    "print(f'{d} -> {r_3}')"
   ]
  },
  {
   "cell_type": "markdown",
   "metadata": {},
   "source": [
    "### Generate Fibonacci numbers, using the generator in Roman class"
   ]
  },
  {
   "cell_type": "code",
   "execution_count": null,
   "metadata": {},
   "outputs": [],
   "source": [
    "print('All possible Roman Fibonacci numbers:')\n",
    "\n",
    "for numeral in Roman.fibonacci_generator():\n",
    "    print(numeral)"
   ]
  },
  {
   "cell_type": "markdown",
   "metadata": {},
   "source": [
    "### Validate the input of functions taking roman numeral representations as a parameter, using the decorator in Roman class"
   ]
  },
  {
   "cell_type": "code",
   "execution_count": null,
   "metadata": {},
   "outputs": [],
   "source": [
    "# Create a function which checks whether a number is an even Roman numeral\n",
    "@validated\n",
    "def is_even(number: str | int):\n",
    "    return Roman(number) % Roman('II') == 'N'\n",
    "\n",
    "print(f\"9 is even: {is_even('IX')}\")\n",
    "print(f'666 is even: {is_even(666)}')\n",
    "print(f'50000 is even: {is_even(50000)}')  # An error is raised, due to the @validated decorator"
   ]
  },
  {
   "cell_type": "markdown",
   "metadata": {},
   "source": [
    "### Implement the Producer-Consumer concurrency pattern, using the coroutines in Roman class"
   ]
  },
  {
   "cell_type": "code",
   "execution_count": null,
   "metadata": {},
   "outputs": [],
   "source": [
    "async def main():\n",
    "    queue = asyncio.Queue()\n",
    "    producer_task = asyncio.create_task(Roman.producer(queue))\n",
    "    consumer_task = asyncio.create_task(Roman.consumer(queue))\n",
    "\n",
    "    await asyncio.gather(producer_task, consumer_task)\n",
    "    await queue.join()\n",
    "\n",
    "    print('> All prime Fibonacci Roman numerals have been processed!')\n",
    "\n",
    "await main()"
   ]
  }
 ],
 "metadata": {
  "kernelspec": {
   "display_name": "Python 3",
   "language": "python",
   "name": "python3"
  },
  "language_info": {
   "codemirror_mode": {
    "name": "ipython",
    "version": 3
   },
   "file_extension": ".py",
   "mimetype": "text/x-python",
   "name": "python",
   "nbconvert_exporter": "python",
   "pygments_lexer": "ipython3",
   "version": "3.10.13"
  }
 },
 "nbformat": 4,
 "nbformat_minor": 2
}
